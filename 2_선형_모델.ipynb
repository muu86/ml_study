{
  "nbformat": 4,
  "nbformat_minor": 0,
  "metadata": {
    "colab": {
      "name": "2. 선형 모델",
      "provenance": [],
      "collapsed_sections": [],
      "include_colab_link": true
    },
    "kernelspec": {
      "name": "python3",
      "display_name": "Python 3"
    }
  },
  "cells": [
    {
      "cell_type": "markdown",
      "metadata": {
        "id": "view-in-github",
        "colab_type": "text"
      },
      "source": [
        "<a href=\"https://colab.research.google.com/github/muu86/ml_study/blob/main/2_%EC%84%A0%ED%98%95_%EB%AA%A8%EB%8D%B8.ipynb\" target=\"_parent\"><img src=\"https://colab.research.google.com/assets/colab-badge.svg\" alt=\"Open In Colab\"/></a>"
      ]
    },
    {
      "cell_type": "code",
      "metadata": {
        "id": "jEBjkWWSazml",
        "colab": {
          "base_uri": "https://localhost:8080/"
        },
        "outputId": "c0fbe00f-dfa0-4e93-8dab-a931b40c51fb"
      },
      "source": [
        "!pip install mglearn"
      ],
      "execution_count": 1,
      "outputs": [
        {
          "output_type": "stream",
          "text": [
            "Collecting mglearn\n",
            "\u001b[?25l  Downloading https://files.pythonhosted.org/packages/65/38/8aced26fce0b2ae82c3c87cd3b6105f38ca6d9d51704ecc44aa54473e6b9/mglearn-0.1.9.tar.gz (540kB)\n",
            "\r\u001b[K     |▋                               | 10kB 16.0MB/s eta 0:00:01\r\u001b[K     |█▏                              | 20kB 21.9MB/s eta 0:00:01\r\u001b[K     |█▉                              | 30kB 13.0MB/s eta 0:00:01\r\u001b[K     |██▍                             | 40kB 9.3MB/s eta 0:00:01\r\u001b[K     |███                             | 51kB 4.3MB/s eta 0:00:01\r\u001b[K     |███▋                            | 61kB 4.8MB/s eta 0:00:01\r\u001b[K     |████▎                           | 71kB 4.9MB/s eta 0:00:01\r\u001b[K     |████▉                           | 81kB 5.2MB/s eta 0:00:01\r\u001b[K     |█████▌                          | 92kB 5.6MB/s eta 0:00:01\r\u001b[K     |██████                          | 102kB 5.7MB/s eta 0:00:01\r\u001b[K     |██████▊                         | 112kB 5.7MB/s eta 0:00:01\r\u001b[K     |███████▎                        | 122kB 5.7MB/s eta 0:00:01\r\u001b[K     |███████▉                        | 133kB 5.7MB/s eta 0:00:01\r\u001b[K     |████████▌                       | 143kB 5.7MB/s eta 0:00:01\r\u001b[K     |█████████                       | 153kB 5.7MB/s eta 0:00:01\r\u001b[K     |█████████▊                      | 163kB 5.7MB/s eta 0:00:01\r\u001b[K     |██████████▎                     | 174kB 5.7MB/s eta 0:00:01\r\u001b[K     |███████████                     | 184kB 5.7MB/s eta 0:00:01\r\u001b[K     |███████████▌                    | 194kB 5.7MB/s eta 0:00:01\r\u001b[K     |████████████▏                   | 204kB 5.7MB/s eta 0:00:01\r\u001b[K     |████████████▊                   | 215kB 5.7MB/s eta 0:00:01\r\u001b[K     |█████████████▍                  | 225kB 5.7MB/s eta 0:00:01\r\u001b[K     |██████████████                  | 235kB 5.7MB/s eta 0:00:01\r\u001b[K     |██████████████▋                 | 245kB 5.7MB/s eta 0:00:01\r\u001b[K     |███████████████▏                | 256kB 5.7MB/s eta 0:00:01\r\u001b[K     |███████████████▊                | 266kB 5.7MB/s eta 0:00:01\r\u001b[K     |████████████████▍               | 276kB 5.7MB/s eta 0:00:01\r\u001b[K     |█████████████████               | 286kB 5.7MB/s eta 0:00:01\r\u001b[K     |█████████████████▋              | 296kB 5.7MB/s eta 0:00:01\r\u001b[K     |██████████████████▏             | 307kB 5.7MB/s eta 0:00:01\r\u001b[K     |██████████████████▉             | 317kB 5.7MB/s eta 0:00:01\r\u001b[K     |███████████████████▍            | 327kB 5.7MB/s eta 0:00:01\r\u001b[K     |████████████████████            | 337kB 5.7MB/s eta 0:00:01\r\u001b[K     |████████████████████▋           | 348kB 5.7MB/s eta 0:00:01\r\u001b[K     |█████████████████████▎          | 358kB 5.7MB/s eta 0:00:01\r\u001b[K     |█████████████████████▉          | 368kB 5.7MB/s eta 0:00:01\r\u001b[K     |██████████████████████▌         | 378kB 5.7MB/s eta 0:00:01\r\u001b[K     |███████████████████████         | 389kB 5.7MB/s eta 0:00:01\r\u001b[K     |███████████████████████▋        | 399kB 5.7MB/s eta 0:00:01\r\u001b[K     |████████████████████████▎       | 409kB 5.7MB/s eta 0:00:01\r\u001b[K     |████████████████████████▉       | 419kB 5.7MB/s eta 0:00:01\r\u001b[K     |█████████████████████████▌      | 430kB 5.7MB/s eta 0:00:01\r\u001b[K     |██████████████████████████      | 440kB 5.7MB/s eta 0:00:01\r\u001b[K     |██████████████████████████▊     | 450kB 5.7MB/s eta 0:00:01\r\u001b[K     |███████████████████████████▎    | 460kB 5.7MB/s eta 0:00:01\r\u001b[K     |████████████████████████████    | 471kB 5.7MB/s eta 0:00:01\r\u001b[K     |████████████████████████████▌   | 481kB 5.7MB/s eta 0:00:01\r\u001b[K     |█████████████████████████████▏  | 491kB 5.7MB/s eta 0:00:01\r\u001b[K     |█████████████████████████████▊  | 501kB 5.7MB/s eta 0:00:01\r\u001b[K     |██████████████████████████████▍ | 512kB 5.7MB/s eta 0:00:01\r\u001b[K     |███████████████████████████████ | 522kB 5.7MB/s eta 0:00:01\r\u001b[K     |███████████████████████████████▌| 532kB 5.7MB/s eta 0:00:01\r\u001b[K     |████████████████████████████████| 542kB 5.7MB/s \n",
            "\u001b[?25hRequirement already satisfied: numpy in /usr/local/lib/python3.6/dist-packages (from mglearn) (1.19.4)\n",
            "Requirement already satisfied: matplotlib in /usr/local/lib/python3.6/dist-packages (from mglearn) (3.2.2)\n",
            "Requirement already satisfied: scikit-learn in /usr/local/lib/python3.6/dist-packages (from mglearn) (0.22.2.post1)\n",
            "Requirement already satisfied: pandas in /usr/local/lib/python3.6/dist-packages (from mglearn) (1.1.5)\n",
            "Requirement already satisfied: pillow in /usr/local/lib/python3.6/dist-packages (from mglearn) (7.0.0)\n",
            "Requirement already satisfied: cycler in /usr/local/lib/python3.6/dist-packages (from mglearn) (0.10.0)\n",
            "Requirement already satisfied: imageio in /usr/local/lib/python3.6/dist-packages (from mglearn) (2.4.1)\n",
            "Requirement already satisfied: joblib in /usr/local/lib/python3.6/dist-packages (from mglearn) (1.0.0)\n",
            "Requirement already satisfied: pyparsing!=2.0.4,!=2.1.2,!=2.1.6,>=2.0.1 in /usr/local/lib/python3.6/dist-packages (from matplotlib->mglearn) (2.4.7)\n",
            "Requirement already satisfied: python-dateutil>=2.1 in /usr/local/lib/python3.6/dist-packages (from matplotlib->mglearn) (2.8.1)\n",
            "Requirement already satisfied: kiwisolver>=1.0.1 in /usr/local/lib/python3.6/dist-packages (from matplotlib->mglearn) (1.3.1)\n",
            "Requirement already satisfied: scipy>=0.17.0 in /usr/local/lib/python3.6/dist-packages (from scikit-learn->mglearn) (1.4.1)\n",
            "Requirement already satisfied: pytz>=2017.2 in /usr/local/lib/python3.6/dist-packages (from pandas->mglearn) (2018.9)\n",
            "Requirement already satisfied: six in /usr/local/lib/python3.6/dist-packages (from cycler->mglearn) (1.15.0)\n",
            "Building wheels for collected packages: mglearn\n",
            "  Building wheel for mglearn (setup.py) ... \u001b[?25l\u001b[?25hdone\n",
            "  Created wheel for mglearn: filename=mglearn-0.1.9-py2.py3-none-any.whl size=582638 sha256=77b53601a3cbbb7dcaa5bca3cd4cbd3c6f899f525e04ca110c97c50600876877\n",
            "  Stored in directory: /root/.cache/pip/wheels/eb/a6/ea/a6a3716233fa62fc561259b5cb1e28f79e9ff3592c0adac5f0\n",
            "Successfully built mglearn\n",
            "Installing collected packages: mglearn\n",
            "Successfully installed mglearn-0.1.9\n"
          ],
          "name": "stdout"
        }
      ]
    },
    {
      "cell_type": "code",
      "metadata": {
        "id": "w7hAZ5hXa1Hn"
      },
      "source": [
        "import mglearn\n",
        "import numpy as np"
      ],
      "execution_count": 2,
      "outputs": []
    },
    {
      "cell_type": "code",
      "metadata": {
        "colab": {
          "base_uri": "https://localhost:8080/",
          "height": 465
        },
        "id": "cenVbA31a8Do",
        "outputId": "aec457f4-a11b-45aa-d22c-44b9ef1d53dd"
      },
      "source": [
        "mglearn.plots.plot_linear_regression_wave()"
      ],
      "execution_count": 3,
      "outputs": [
        {
          "output_type": "stream",
          "text": [
            "w[0]: 0.393906  b: -0.031804\n"
          ],
          "name": "stdout"
        },
        {
          "output_type": "display_data",
          "data": {
            "image/png": "[encoded data removed]",
            "text/plain": [
              "<Figure size 576x576 with 1 Axes>"
            ]
          },
          "metadata": {
            "tags": [],
            "needs_background": "light"
          }
        }
      ]
    },
    {
      "cell_type": "code",
      "metadata": {
        "id": "alsqYTqsa_b2"
      },
      "source": [
        "from sklearn.model_selection import train_test_split\n",
        "from sklearn.linear_model import LinearRegression\n",
        "\n",
        "X, y = mglearn.datasets.make_wave(n_samples=60)\n",
        "\n",
        "X_train, X_test, y_train, y_test = train_test_split(X, y, random_state=42)\n",
        "\n",
        "lr = LinearRegression().fit(X_train, y_train)"
      ],
      "execution_count": 4,
      "outputs": []
    },
    {
      "cell_type": "code",
      "metadata": {
        "colab": {
          "base_uri": "https://localhost:8080/"
        },
        "id": "i9IBE7XRbjL2",
        "outputId": "26e0d985-7bba-4f0f-c427-859959ca708e"
      },
      "source": [
        "X_train.shape, y_train.shape"
      ],
      "execution_count": 5,
      "outputs": [
        {
          "output_type": "execute_result",
          "data": {
            "text/plain": [
              "((45, 1), (45,))"
            ]
          },
          "metadata": {
            "tags": []
          },
          "execution_count": 5
        }
      ]
    },
    {
      "cell_type": "code",
      "metadata": {
        "colab": {
          "base_uri": "https://localhost:8080/"
        },
        "id": "zat-8hVwb1oE",
        "outputId": "dc8393ad-e925-4401-fcc0-0c1d93bff730"
      },
      "source": [
        "# 선형 회귀 모델이 학습한 가중치와 편향 보기\n",
        "print(\"lr의 가중치(weight) : {}\".format(lr.coef_))\n",
        "print(\"lr의 편향(bias) : {}\".format(lr.intercept_))"
      ],
      "execution_count": 6,
      "outputs": [
        {
          "output_type": "stream",
          "text": [
            "lr의 가중치(weight) : [0.39390555]\n",
            "lr의 편향(bias) : -0.031804343026759746\n"
          ],
          "name": "stdout"
        }
      ]
    },
    {
      "cell_type": "code",
      "metadata": {
        "colab": {
          "base_uri": "https://localhost:8080/"
        },
        "id": "nEoaXkH5cMle",
        "outputId": "eaf0e7ac-dff9-4c97-a128-feea2d7cf12e"
      },
      "source": [
        "# 훈련 세트와 테스트 세트 점수확인\n",
        "print(\"훈련 세트 점수 : {:.2f}\".format(lr.score(X_train, y_train)))\n",
        "print(\"테스트 세트 점수 : {:.2f}\".format(lr.score(X_test, y_test)))"
      ],
      "execution_count": 7,
      "outputs": [
        {
          "output_type": "stream",
          "text": [
            "훈련 세트 점수 : 0.67\n",
            "테스트 세트 점수 : 0.66\n"
          ],
          "name": "stdout"
        }
      ]
    },
    {
      "cell_type": "markdown",
      "metadata": {
        "id": "kE1HVUIGdCb8"
      },
      "source": [
        "데이터의 특성이 많다면 어떻게 될까요?"
      ]
    },
    {
      "cell_type": "code",
      "metadata": {
        "colab": {
          "base_uri": "https://localhost:8080/"
        },
        "id": "BvtwybeKdgft",
        "outputId": "f34f992c-441a-4535-ccaa-f7c1eab59321"
      },
      "source": [
        "# 확장된 boston 주택가격 데이터셋 불러오기\n",
        "X, y = mglearn.datasets.load_extended_boston()\n",
        "\n",
        "X_train, X_test, y_train, y_test = train_test_split(X, y, random_state=0)\n",
        "lr = LinearRegression().fit(X_train, y_train)\n",
        "\n",
        "print(\"훈련 세트 점수 : {:.2f}\".format(lr.score(X_train, y_train)))\n",
        "print(\"테스트 세트 점수 : {:.2f}\".format(lr.score(X_test, y_test)))"
      ],
      "execution_count": 8,
      "outputs": [
        {
          "output_type": "stream",
          "text": [
            "훈련 세트 점수 : 0.95\n",
            "테스트 세트 점수 : 0.61\n"
          ],
          "name": "stdout"
        }
      ]
    },
    {
      "cell_type": "code",
      "metadata": {
        "colab": {
          "base_uri": "https://localhost:8080/"
        },
        "id": "SyTPnmu2d1oW",
        "outputId": "e43f2734-ea31-4a04-a5c0-0336e968c667"
      },
      "source": [
        "X_train.shape"
      ],
      "execution_count": 9,
      "outputs": [
        {
          "output_type": "execute_result",
          "data": {
            "text/plain": [
              "(379, 104)"
            ]
          },
          "metadata": {
            "tags": []
          },
          "execution_count": 9
        }
      ]
    },
    {
      "cell_type": "markdown",
      "metadata": {
        "id": "BfQ3TzUIySL_"
      },
      "source": [
        "# 가중치 패널티 ( $\\alpha$ )\n",
        "\n",
        "$\\alpha$란 가중치를 억제하는 힘이라고 생각하면 편하다. 즉 $\\alpha$가 커질 수록 가중치 $W$는 0에 가깝게 작아진다.\n",
        "\n",
        "* Ridge 모델\n",
        " - $\\alpha$가 커지면 가중치($W$)가 0에 가깝게 작아지지만, 실제 0이 되진 않습니다.\n",
        "* Lasso 모델\n",
        " - $\\alpha$가 커지면 가중치($W$)가 0에 가까워 지고, 실제 0이 되어버린다.\n",
        " - 이러한 특징을 **모델에 의한 특성 선택**이라고 한다."
      ]
    },
    {
      "cell_type": "code",
      "metadata": {
        "id": "yls2SRxVzWyI",
        "outputId": "6464ad6b-20fd-4492-ff35-11b93cc701af",
        "colab": {
          "base_uri": "https://localhost:8080/"
        }
      },
      "source": [
        "from sklearn.linear_model import Ridge\r\n",
        "\r\n",
        "ridge = Ridge().fit(X_train, y_train)\r\n",
        "\r\n",
        "print(\"훈련 세트의 점수 : {:.2f}\".format(ridge.score(X_train, y_train)))\r\n",
        "print(\"테스트 세트의 점수 : {:.2f}\".format(ridge.score(X_test, y_test)))\r\n"
      ],
      "execution_count": 14,
      "outputs": [
        {
          "output_type": "stream",
          "text": [
            "훈련 세트의 점수 : 0.89\n",
            "테스트 세트의 점수 : 0.75\n"
          ],
          "name": "stdout"
        }
      ]
    },
    {
      "cell_type": "code",
      "metadata": {
        "id": "verkYrZN5MRi",
        "outputId": "66577da8-9601-474f-b950-35991643fd23",
        "colab": {
          "base_uri": "https://localhost:8080/"
        }
      },
      "source": [
        "ridge"
      ],
      "execution_count": 15,
      "outputs": [
        {
          "output_type": "execute_result",
          "data": {
            "text/plain": [
              "Ridge(alpha=1.0, copy_X=True, fit_intercept=True, max_iter=None,\n",
              "      normalize=False, random_state=None, solver='auto', tol=0.001)"
            ]
          },
          "metadata": {
            "tags": []
          },
          "execution_count": 15
        }
      ]
    },
    {
      "cell_type": "code",
      "metadata": {
        "id": "Qt5_cn649Jzx",
        "outputId": "ebd60dac-626b-420d-ce99-41687a4fa8a8",
        "colab": {
          "base_uri": "https://localhost:8080/"
        }
      },
      "source": [
        "# alpha 값에 따른 릿지 모델 성능 확인\r\n",
        "\r\n",
        "ridge10 = Ridge(alpha=10).fit(X_train, y_train)\r\n",
        "print(\"alpha = 10 일 때 훈련 세트의 점수 : {:.2f}\".format(ridge10.score(X_train, y_train)))\r\n",
        "print(\"alpha = 10 일 때 테스트 세트의 점수 : {:.2f}\".format(ridge10.score(X_test, y_test)))"
      ],
      "execution_count": 17,
      "outputs": [
        {
          "output_type": "stream",
          "text": [
            "alpha = 10 일 때 훈련 세트의 점수 : 0.79\n",
            "alpha = 10 일 때 테스트 세트의 점수 : 0.64\n"
          ],
          "name": "stdout"
        }
      ]
    },
    {
      "cell_type": "code",
      "metadata": {
        "id": "cu1OOdN89xIO",
        "outputId": "7c85acd4-a4e1-40c0-dfe0-30e3e96dc763",
        "colab": {
          "base_uri": "https://localhost:8080/"
        }
      },
      "source": [
        "# alpha 를 0.1 로 설정한 경우\r\n",
        "ridge01 = Ridge(alpha=0.1).fit(X_train, y_train)\r\n",
        "\r\n",
        "print(\"alpha = 0.1 일 때 훈련 세트의 점수 : {:.2f}\".format(ridge01.score(X_train, y_train)))\r\n",
        "print(\"alpha = 0.1 일 때 테스트 세트의 점수 : {:.2f}\".format(ridge01.score(X_test, y_test)))"
      ],
      "execution_count": 20,
      "outputs": [
        {
          "output_type": "stream",
          "text": [
            "alpha = 0.1 일 때 훈련 세트의 점수 : 0.93\n",
            "alpha = 0.1 일 때 테스트 세트의 점수 : 0.77\n"
          ],
          "name": "stdout"
        }
      ]
    },
    {
      "cell_type": "code",
      "metadata": {
        "id": "4WmgionF-OdP",
        "outputId": "3ed8a486-ae8a-4c51-b985-305d6d3ba56b",
        "colab": {
          "base_uri": "https://localhost:8080/",
          "height": 454
        }
      },
      "source": [
        "# alpha 값에 따른 각각의 특성에 대한 가중치의 분포도를 확인해보자\r\n",
        "# 선형 모델의 coef_ 변수에 가중치 배열이 들어있다\r\n",
        "import matplotlib.pyplot as plt\r\n",
        "\r\n",
        "\r\n",
        "plt.figure(figsize=(20, 10))\r\n",
        "\r\n",
        "plt.plot(ridge10.coef_, '*', label='Ridge alpha 10')\r\n",
        "plt.plot(ridge.coef_, 's', label='Ridge alpha 1.0')\r\n",
        "plt.plot(ridge01.coef_, 'v', label='Ridge alpha 0.1')\r\n",
        "plt.plot(lr.coef_, 'o', label='Linear Regression')\r\n",
        "\r\n",
        "plt.xlabel('coef list')\r\n",
        "plt.ylabel('coef size')\r\n",
        "plt.hlines(0, 0, len(lr.coef_))\r\n",
        "plt.ylim(-25, 25)\r\n",
        "plt.legend()"
      ],
      "execution_count": 23,
      "outputs": [
        {
          "output_type": "execute_result",
          "data": {
            "text/plain": [
              "<matplotlib.legend.Legend at 0x7f447eb3c400>"
            ]
          },
          "metadata": {
            "tags": []
          },
          "execution_count": 23
        },
        {
          "output_type": "display_data",
          "data": {
            "image/png": "[encoded data removed]",
            "text/plain": [
              "<Figure size 1440x720 with 1 Axes>"
            ]
          },
          "metadata": {
            "tags": [],
            "needs_background": "light"
          }
        }
      ]
    },
    {
      "cell_type": "code",
      "metadata": {
        "id": "9UdzrVIU_uLL"
      },
      "source": [
        ""
      ],
      "execution_count": null,
      "outputs": []
    }
  ]
}